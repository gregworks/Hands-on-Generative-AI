{
  "cells": [
    {
      "cell_type": "markdown",
      "metadata": {
        "id": "view-in-github",
        "colab_type": "text"
      },
      "source": [
        "<a href=\"https://colab.research.google.com/github/gregworks/Hands-on-Generative-AI/blob/main/Day-2/Part-1-solution-fixed-image-gen.ipynb\" target=\"_parent\"><img src=\"https://colab.research.google.com/assets/colab-badge.svg\" alt=\"Open In Colab\"/></a>"
      ]
    },
    {
      "cell_type": "markdown",
      "metadata": {
        "id": "RSQ4LmyCckox"
      },
      "source": [
        "## **Outline**\n",
        "\n",
        "- Building Autoencoders\n",
        "  - Recap of Autoencoders\n",
        "- Implementing an Autoencoder using PyTorch\n",
        "- Training and Evaluating the Model"
      ]
    },
    {
      "cell_type": "markdown",
      "metadata": {
        "id": "quYbDVpEcko0"
      },
      "source": [
        "<img src=\"https://github.com/gregworks/Hands-on-Generative-AI/blob/main/Day-2/images/border.jpg?raw=1\" height=\"10\" width=\"1500\" align=\"center\"/>"
      ]
    },
    {
      "cell_type": "markdown",
      "metadata": {
        "id": "ThosKL74cko1"
      },
      "source": [
        "# **[Autoencoders](https://arxiv.org/abs/2201.03898)**"
      ]
    },
    {
      "cell_type": "markdown",
      "metadata": {
        "id": "G_t6kuWlcko1"
      },
      "source": [
        "- One of the most popular type of neural network for **processing structured grid data** is CNN (Convolutional Neural Network).\n",
        "  - Most commonly used for **image processing**.\n",
        "  \n",
        "- Key Components of CNN\n",
        "\n",
        "  1. **Convolutional Layer**: Extracts features using filters.\n",
        "  2. **Pooling Layer**: Reduces spatial dimensions while retaining important information.\n",
        "  3. **Fully Connected Layer**: Regular neural network layer for final classification.\n",
        "\n",
        "\n",
        "![AutoEncoder Diagram](https://github.com/gregworks/Hands-on-Generative-AI/blob/main/Day-2/images/CNN.jpeg?raw=1)\n",
        "\n",
        "\n",
        "- Problem with CNN Training\n",
        "\n",
        "  - One key challenge: Need **a lot of labeled data** for training.\n",
        "  - Image classification requires manual categorization into classes.\n",
        "\n",
        "\n",
        "- Self-Supervised Learning\n",
        "\n",
        "  - Using raw (unlabeled) data for training CNN feature extractors.\n",
        "  - Known as **self-supervised learning**.\n",
        "  - Training images are used as both **input and output**.\n",
        "\n",
        "\n",
        "- Autoencoders\n",
        "  1. **Encoder Network**: Converts the input image into a latent space.\n",
        "  2. **Decoder Network**: Aims to reconstruct the original image.\n",
        "  \n",
        "- Why Autoencoders?\n",
        "\n",
        "  - They aim to capture as much information from the original image as possible.\n",
        "  - This allows for accurate reconstruction.\n",
        "  - The network seeks the best embedding of input images to capture their essence.\n",
        "\n",
        "\n",
        "## **Autoencoder Diagram**\n",
        "\n",
        "![AutoEncoder Diagram](https://github.com/gregworks/Hands-on-Generative-AI/blob/main/Day-2/images/autoencoder_schema.jpg?raw=1)\n",
        "\n",
        "> Image sourced from [Keras blog](https://blog.keras.io/building-autoencoders-in-keras.html)\n"
      ]
    },
    {
      "cell_type": "markdown",
      "metadata": {
        "id": "YHEGllKvcko2"
      },
      "source": [
        "<img src=\"https://github.com/gregworks/Hands-on-Generative-AI/blob/main/Day-2/images/border.jpg?raw=1\" height=\"10\" width=\"1500\" align=\"center\"/>"
      ]
    },
    {
      "cell_type": "markdown",
      "metadata": {
        "id": "DdYjYeBgcko2"
      },
      "source": [
        "## **Example**\n",
        "\n",
        "- **Objective**:\n",
        "  - Understand autoencoders using a basic example.\n",
        "  - Compress and reconstruct 2D synthetic data points.\n",
        "\n",
        "1. **Data**:\n",
        "    - Four synthetic 2D points: `[1.0, 2.0], [2.0, 3.0], ...`\n",
        "2. **Autoencoder**:\n",
        "    - **Encoder**: Transforms 2D points to 1D.\n",
        "    - **Decoder**: Reconstructs 1D points back to 2D."
      ]
    },
    {
      "cell_type": "code",
      "execution_count": 1,
      "metadata": {
        "id": "oUDnpE-scko2"
      },
      "outputs": [],
      "source": [
        "import torch\n",
        "import torch.nn as nn\n",
        "import torch.optim as optim\n",
        "import matplotlib.pyplot as plt\n",
        "\n",
        "\n",
        "# Simple synthetic dataset: 2D points\n",
        "data = torch.tensor([[1.0, 2.0], [2.0, 3.0], [3.0, 4.0], [4.0, 5.0]])\n",
        "\n"
      ]
    },
    {
      "cell_type": "code",
      "execution_count": 6,
      "metadata": {
        "id": "fhgVZV1Hcko3"
      },
      "outputs": [],
      "source": [
        "# Define the autoencoder model\n",
        "class Autoencoder(nn.Module):\n",
        "    def __init__(self):\n",
        "        super(Autoencoder, self).__init__()\n",
        "        # Define the encoder part of the autoencoder with a linear layer.\n",
        "        # This linear layer will reduce the input dimension from 2 to 1.\n",
        "        # In other words, it's learning a compressed representation of the input data.\n",
        "        # The input dimension is 2, and the output dimension is 1, which means it's\n",
        "        # projecting a 2D input space onto a 1D space.\n",
        "        self.encoder = nn.Linear(2, 3)\n",
        "        # Define the decoder part of the autoencoder with a linear layer.\n",
        "        # This linear layer will expand the compressed representation (1D) back to the original input dimension (2D).\n",
        "        # In other words, it's responsible for reconstructing the original input from the compressed representation.\n",
        "        # The input dimension is 1, and the output dimension is 2, which means it's mapping the 1D representation\n",
        "        # back to the original 2D space.\n",
        "        self.decoder = nn.Linear(3, 2)\n",
        "\n",
        "    # Define the forward pass of the autoencoder.\n",
        "    # This method takes an input 'x' and passes it through both the encoder and decoder parts.\n",
        "    # 1. 'x' is first passed through the encoder, which reduces the dimensionality of the input.\n",
        "    # 2. The result of the encoder is then passed through the decoder, which aims to reconstruct\n",
        "    #    the original input from the compressed representation.\n",
        "    # 3. The final output 'x' represents the reconstructed data.\n",
        "    # Essentially, this method encodes the input and then decodes it to obtain the reconstruction.\n",
        "    def forward(self, x):\n",
        "        # Pass the input through the encoder to obtain the compressed representation\n",
        "        x = self.encoder(x)\n",
        "\n",
        "        # Pass the compressed representation through the decoder to reconstruct the input\n",
        "        x = self.decoder(x)\n",
        "\n",
        "        # Return the reconstructed data\n",
        "        return x\n",
        ""
      ]
    },
    {
      "cell_type": "code",
      "execution_count": 7,
      "metadata": {
        "id": "sv6EsoZmcko4"
      },
      "outputs": [],
      "source": [
        "# Initialize model, loss function, and optimizer\n",
        "model = Autoencoder()\n",
        "criterion = nn.MSELoss()  # Mean Squared Error Loss: Measures the difference between the original and reconstructed data\n",
        "# Define the optimizer for training the autoencoder.\n",
        "# The optimizer is Adam, a popular optimization algorithm that adjusts the model's parameters\n",
        "# during training to minimize the loss.\n",
        "#   A learning rate of 0.01 means that the optimizer will make relatively small updates to the parameters\n",
        "#   in each training iteration.\n",
        "optimizer = optim.Adam(model.parameters(), lr=0.01)"
      ]
    },
    {
      "cell_type": "code",
      "execution_count": 8,
      "metadata": {
        "id": "iuoYfpC0cko4"
      },
      "outputs": [],
      "source": [
        "# --- TRAINING ---\n",
        "\n",
        "# Training loop\n",
        "num_epochs = 1000\n",
        "losses = []  # To store loss values for visualization\n",
        "for epoch in range(num_epochs):\n",
        "    # Zero the gradients\n",
        "    optimizer.zero_grad()\n",
        "\n",
        "    # Forward pass: Pass the data through the model to get the reconstructed output\n",
        "    outputs = model(data)\n",
        "\n",
        "    # Compute loss: Difference between original data and reconstructed data\n",
        "    loss = criterion(outputs, data)\n",
        "\n",
        "    # Backward pass: Adjust model parameters to minimize the loss\n",
        "    loss.backward()\n",
        "    optimizer.step()\n",
        "\n",
        "    # Store the loss value for this epoch\n",
        "    losses.append(loss.item())"
      ]
    },
    {
      "cell_type": "code",
      "execution_count": 9,
      "metadata": {
        "colab": {
          "base_uri": "https://localhost:8080/",
          "height": 618
        },
        "id": "hFexDF9acko4",
        "outputId": "1a95b7ba-570d-41cd-b801-83d81164f3fc"
      },
      "outputs": [
        {
          "output_type": "display_data",
          "data": {
            "text/plain": [
              "<Figure size 1200x400 with 2 Axes>"
            ],
            "image/png": "[encoded data removed]"
          },
          "metadata": {}
        },
        {
          "output_type": "stream",
          "name": "stdout",
          "text": [
            "Original Data: tensor([[1., 2.],\n",
            "        [2., 3.],\n",
            "        [3., 4.],\n",
            "        [4., 5.]])\n",
            "Encoded Data: tensor([[ 2.2320,  0.1230,  0.6151],\n",
            "        [ 3.4858, -0.0069,  1.2271],\n",
            "        [ 4.7395, -0.1369,  1.8391],\n",
            "        [ 5.9933, -0.2668,  2.4512]])\n",
            "Decoded Data: tensor([[1.0001, 1.9968],\n",
            "        [2.0000, 2.9985],\n",
            "        [3.0000, 4.0002],\n",
            "        [3.9999, 5.0019]])\n"
          ]
        }
      ],
      "source": [
        "# Plot the loss over epochs: This will show how the model improves over time\n",
        "plt.figure(figsize=(12, 4))\n",
        "plt.subplot(1, 2, 1)\n",
        "plt.plot(losses)\n",
        "plt.xlabel('Epoch')\n",
        "plt.ylabel('Loss')\n",
        "plt.title('Training Loss')\n",
        "\n",
        "# Visualize the original and reconstructed data points\n",
        "plt.subplot(1, 2, 2)\n",
        "plt.scatter(data[:, 0], data[:, 1], marker='o', label='Original Data')\n",
        "plt.scatter(outputs.detach()[:, 0], outputs.detach()[:, 1], marker='x', label='Reconstructed Data')\n",
        "plt.legend()\n",
        "plt.title('Original vs. Reconstructed Data')\n",
        "plt.show()\n",
        "\n",
        "# Display the original data, encoded data, and the reconstructed data\n",
        "print(\"Original Data:\", data)\n",
        "print(\"Encoded Data:\", model.encoder(data).detach())  # Using detach() to get data from tensor\n",
        "print(\"Decoded Data:\", outputs.detach())"
      ]
    },
    {
      "cell_type": "markdown",
      "metadata": {
        "id": "9DzQ4wRvcko5"
      },
      "source": [
        "<img src=\"https://github.com/gregworks/Hands-on-Generative-AI/blob/main/Day-2/images/border.jpg?raw=1\" height=\"10\" width=\"1500\" align=\"center\"/>"
      ]
    },
    {
      "cell_type": "markdown",
      "metadata": {
        "id": "sxx3dmoBcko5"
      },
      "source": [
        "## **Excercise:**\n",
        "\n",
        "- Expand the latent space to 2 or 3 dimensions instead of 1.\n",
        "  - is it more accurate?\n",
        "  - Does it make sense to increase the dimensions?\n",
        "\n",
        "\n",
        " <!-- self.encoder = nn.Linear(2, 2)\n",
        "        \n",
        "        # Decoder: 2D -> 2D. This will reconstruct the original input from the encoded form.\n",
        "        self.decoder = nn.Linear(2, 2) -->"
      ]
    },
    {
      "cell_type": "code",
      "source": [],
      "metadata": {
        "id": "ZJXf07wIQtiY"
      },
      "execution_count": null,
      "outputs": []
    },
    {
      "cell_type": "markdown",
      "metadata": {
        "id": "sChIT9Z3cko5"
      },
      "source": [
        "<img src=\"https://github.com/gregworks/Hands-on-Generative-AI/blob/main/Day-2/images/border.jpg?raw=1\" height=\"10\" width=\"1500\" align=\"center\"/>"
      ]
    },
    {
      "cell_type": "markdown",
      "metadata": {
        "id": "uUEZ76X0cko5"
      },
      "source": [
        "## **Building an Autoencoder using PyTorch for MNIST**\n",
        "\n",
        "\n",
        "### MNIST Dataset Overview\n",
        "\n",
        "- **Type:** Handwritten Digits\n",
        "- **Images:** 70,000\n",
        "  - **Training:** 60,000\n",
        "  - **Testing:** 10,000\n",
        "- **Size:** 28 x 28 pixels\n",
        "- **Grayscale:** 0 (Black) to 255 (White)\n",
        "- **Use:** Benchmark for classification algorithms"
      ]
    },
    {
      "cell_type": "markdown",
      "metadata": {
        "id": "DndqLsYwcko6"
      },
      "source": [
        "1. Import Necessary Libraries\n"
      ]
    },
    {
      "cell_type": "code",
      "execution_count": 10,
      "metadata": {
        "id": "h2w_OAvMcko6"
      },
      "outputs": [],
      "source": [
        "import torch\n",
        "import torch.nn as nn\n",
        "import torch.optim as optim\n",
        "from tqdm import tqdm\n",
        "import numpy as np\n",
        "import matplotlib.pyplot as plt\n",
        "from torchvision import datasets, transforms"
      ]
    },
    {
      "cell_type": "code",
      "execution_count": 11,
      "metadata": {
        "colab": {
          "base_uri": "https://localhost:8080/",
          "height": 1000
        },
        "id": "sdmoj0lKcko6",
        "outputId": "c16c0527-326b-4a0a-a3c8-fe44e7391827"
      },
      "outputs": [
        {
          "output_type": "stream",
          "name": "stderr",
          "text": [
            "100%|██████████| 9.91M/9.91M [00:00<00:00, 16.3MB/s]\n",
            "100%|██████████| 28.9k/28.9k [00:00<00:00, 482kB/s]\n",
            "100%|██████████| 1.65M/1.65M [00:00<00:00, 4.46MB/s]\n",
            "100%|██████████| 4.54k/4.54k [00:00<00:00, 7.34MB/s]"
          ]
        },
        {
          "output_type": "stream",
          "name": "stdout",
          "text": [
            "Number of training samples: 60000\n",
            "Image shape: torch.Size([1, 28, 28])\n"
          ]
        },
        {
          "output_type": "stream",
          "name": "stderr",
          "text": [
            "\n"
          ]
        },
        {
          "output_type": "display_data",
          "data": {
            "text/plain": [
              "<Figure size 640x480 with 1 Axes>"
            ],
            "image/png": "[encoded data removed]"
          },
          "metadata": {}
        },
        {
          "output_type": "display_data",
          "data": {
            "text/plain": [
              "<Figure size 1200x200 with 10 Axes>"
            ],
            "image/png": "[encoded data removed]"
          },
          "metadata": {}
        },
        {
          "output_type": "display_data",
          "data": {
            "text/plain": [
              "<Figure size 640x480 with 1 Axes>"
            ],
            "image/png": "[encoded data removed]"
          },
          "metadata": {}
        },
        {
          "output_type": "stream",
          "name": "stdout",
          "text": [
            "Mean Pixel Value: 33.318421449829934\n",
            "Standard Deviation of Pixel Value: 78.56748998339798\n"
          ]
        }
      ],
      "source": [
        "# Load the MNIST dataset\n",
        "transform = transforms.Compose([transforms.ToTensor()])\n",
        "train_dataset = datasets.MNIST('./data', train=True, download=True, transform=transform)\n",
        "\n",
        "# 1. Dataset Size and Structure\n",
        "print(f\"Number of training samples: {len(train_dataset)}\")\n",
        "print(f\"Image shape: {train_dataset[0][0].shape}\")\n",
        "\n",
        "# 2. Class Distribution\n",
        "class_counts = np.bincount(train_dataset.targets)\n",
        "plt.bar(range(10), class_counts)\n",
        "plt.xlabel(\"Digit Class\")\n",
        "plt.ylabel(\"Count\")\n",
        "plt.title(\"Class Distribution in MNIST\")\n",
        "plt.xticks(range(10))\n",
        "plt.show()\n",
        "\n",
        "# 3. Sample Images\n",
        "sample_images = [train_dataset[i][0] for i in range(10)]\n",
        "fig, axes = plt.subplots(1, 10, figsize=(12, 2))\n",
        "for i, ax in enumerate(axes):\n",
        "    ax.imshow(sample_images[i][0], cmap='gray')\n",
        "    ax.axis('off')\n",
        "plt.suptitle(\"Sample Images from MNIST Dataset\")\n",
        "plt.show()\n",
        "\n",
        "# 4. Pixel Value Distribution\n",
        "pixel_values = train_dataset.data.numpy().flatten()\n",
        "plt.hist(pixel_values, bins=256, range=(0, 256), density=True)\n",
        "plt.xlabel(\"Pixel Value\")\n",
        "plt.ylabel(\"Frequency\")\n",
        "plt.title(\"Pixel Value Distribution\")\n",
        "plt.show()\n",
        "\n",
        "# 6. Image Statistics\n",
        "mean_pixel_value = np.mean(pixel_values)\n",
        "std_pixel_value = np.std(pixel_values)\n",
        "print(f\"Mean Pixel Value: {mean_pixel_value}\")\n",
        "print(f\"Standard Deviation of Pixel Value: {std_pixel_value}\")\n",
        "\n",
        "plt.show()\n"
      ]
    },
    {
      "cell_type": "markdown",
      "metadata": {
        "id": "_a-GDmHwcko6"
      },
      "source": [
        "2. Data Loading and Preprocessing\n"
      ]
    },
    {
      "cell_type": "code",
      "execution_count": 12,
      "metadata": {
        "id": "8_hIs_micko6"
      },
      "outputs": [],
      "source": [
        "transform = transforms.Compose([\n",
        "    transforms.ToTensor(),\n",
        "])\n",
        "\n",
        "train_dataset = datasets.MNIST(root='./data', train=True, transform=transform, download=True)\n",
        "train_loader = torch.utils.data.DataLoader(train_dataset, batch_size=128, shuffle=True)"
      ]
    },
    {
      "cell_type": "markdown",
      "metadata": {
        "id": "SOQpNIlXcko6"
      },
      "source": [
        "3. Define the Autoencoder Architecture\n"
      ]
    },
    {
      "cell_type": "code",
      "execution_count": 14,
      "metadata": {
        "id": "x9DtTmRFcko7"
      },
      "outputs": [],
      "source": [
        "class Autoencoder(nn.Module):\n",
        "    def __init__(self, encoding_dim):\n",
        "        super(Autoencoder, self).__init__()\n",
        "        # It consists of a sequence of two layers:\n",
        "        # 1. Linear Layer: This layer performs a linear transformation on the input, reducing it to 'encoding_dim' dimensions.\n",
        "        #    - Input size: 28*28 (flatten MNIST image)\n",
        "        #    - Output size: 'encoding_dim'\n",
        "        # 2. ReLU Activation: The Rectified Linear Unit (ReLU) activation function introduces non-linearity\n",
        "        #    by replacing negative values with zeros.\n",
        "        #    - It helps the model learn complex patterns in the data.\n",
        "        #    - 'nn.ReLU(True)' means that 'in-place' ReLU is used, which modifies the input tensor directly.\n",
        "        self.encoder = nn.Sequential(\n",
        "            nn.Linear(28 * 28, encoding_dim),  # Input: 28*28, Output: encoding_dim\n",
        "            nn.ReLU(True)  # Apply ReLU activation\n",
        "        )\n",
        "\n",
        "        self.decoder = nn.Sequential(\n",
        "            nn.Linear(encoding_dim, 28 * 28),\n",
        "            nn.Sigmoid()  # To bring the values between 0 and 1\n",
        "        )\n",
        "\n",
        "    def forward(self, x):\n",
        "        x = self.encoder(x)\n",
        "        x = self.decoder(x)\n",
        "        return x\n"
      ]
    },
    {
      "cell_type": "markdown",
      "metadata": {
        "id": "fWJezOnFcko7"
      },
      "source": [
        "**3.1. Encoder Definition**\n",
        "\n",
        "- The encoder compresses the input into a latent space.\n",
        "- nn.Sequential is a container that sequences the layers in order.\n",
        "- nn.Linear(28 * 28, encoding_dim) creates a fully connected layer. The input size is 784 (28x28, size of MNIST images), and the output is the encoding dimension.\n",
        "- nn.ReLU(True) is the activation function. ReLU stands for Rectified Linear Unit.\n",
        "\n",
        "**3.2. Decoder Definition**\n",
        "\n",
        "- The decoder reconstructs the original input from the encoded form.\n",
        "- nn.Linear(encoding_dim, 28 * 28) creates a fully connected layer. This layer takes the encoded representation and tries to expand it back to the original size.\n",
        "- nn.Sigmoid() is the activation function. It ensures the output values are between 0 and 1, making it suitable for image reconstruction."
      ]
    },
    {
      "cell_type": "markdown",
      "metadata": {
        "id": "52qe9poocko7"
      },
      "source": [
        "4. Model, Loss, and Optimizer Initialization\n"
      ]
    },
    {
      "cell_type": "code",
      "execution_count": 15,
      "metadata": {
        "id": "gFCmC_E-cko7"
      },
      "outputs": [],
      "source": [
        "model = Autoencoder(encoding_dim=64)\n",
        "criterion = nn.MSELoss()\n",
        "optimizer = optim.Adam(model.parameters(), lr=0.001)"
      ]
    },
    {
      "cell_type": "markdown",
      "metadata": {
        "id": "u-gDsU7scko7"
      },
      "source": [
        "5. Training the Autoencoder"
      ]
    },
    {
      "cell_type": "code",
      "execution_count": 16,
      "metadata": {
        "colab": {
          "base_uri": "https://localhost:8080/"
        },
        "id": "8rWFjOwVcko7",
        "outputId": "d4a3c8a9-7441-4454-c9ba-20fc08a0e2d6"
      },
      "outputs": [
        {
          "output_type": "stream",
          "name": "stderr",
          "text": [
            "Epochs:  10%|█         | 1/10 [00:08<01:16,  8.46s/it]"
          ]
        },
        {
          "output_type": "stream",
          "name": "stdout",
          "text": [
            "Epoch [1/10], Loss: 0.0253\n"
          ]
        },
        {
          "output_type": "stream",
          "name": "stderr",
          "text": [
            "\rEpochs:  20%|██        | 2/10 [00:16<01:06,  8.37s/it]"
          ]
        },
        {
          "output_type": "stream",
          "name": "stdout",
          "text": [
            "Epoch [2/10], Loss: 0.0147\n"
          ]
        },
        {
          "output_type": "stream",
          "name": "stderr",
          "text": [
            "\rEpochs:  30%|███       | 3/10 [00:24<00:56,  8.07s/it]"
          ]
        },
        {
          "output_type": "stream",
          "name": "stdout",
          "text": [
            "Epoch [3/10], Loss: 0.0111\n"
          ]
        },
        {
          "output_type": "stream",
          "name": "stderr",
          "text": [
            "\rEpochs:  40%|████      | 4/10 [00:32<00:48,  8.17s/it]"
          ]
        },
        {
          "output_type": "stream",
          "name": "stdout",
          "text": [
            "Epoch [4/10], Loss: 0.0072\n"
          ]
        },
        {
          "output_type": "stream",
          "name": "stderr",
          "text": [
            "\rEpochs:  50%|█████     | 5/10 [00:41<00:41,  8.22s/it]"
          ]
        },
        {
          "output_type": "stream",
          "name": "stdout",
          "text": [
            "Epoch [5/10], Loss: 0.0064\n"
          ]
        },
        {
          "output_type": "stream",
          "name": "stderr",
          "text": [
            "\rEpochs:  60%|██████    | 6/10 [00:48<00:32,  8.07s/it]"
          ]
        },
        {
          "output_type": "stream",
          "name": "stdout",
          "text": [
            "Epoch [6/10], Loss: 0.0061\n"
          ]
        },
        {
          "output_type": "stream",
          "name": "stderr",
          "text": [
            "\rEpochs:  70%|███████   | 7/10 [00:57<00:24,  8.14s/it]"
          ]
        },
        {
          "output_type": "stream",
          "name": "stdout",
          "text": [
            "Epoch [7/10], Loss: 0.0059\n"
          ]
        },
        {
          "output_type": "stream",
          "name": "stderr",
          "text": [
            "\rEpochs:  80%|████████  | 8/10 [01:05<00:16,  8.22s/it]"
          ]
        },
        {
          "output_type": "stream",
          "name": "stdout",
          "text": [
            "Epoch [8/10], Loss: 0.0057\n"
          ]
        },
        {
          "output_type": "stream",
          "name": "stderr",
          "text": [
            "\rEpochs:  90%|█████████ | 9/10 [01:13<00:08,  8.15s/it]"
          ]
        },
        {
          "output_type": "stream",
          "name": "stdout",
          "text": [
            "Epoch [9/10], Loss: 0.0059\n"
          ]
        },
        {
          "output_type": "stream",
          "name": "stderr",
          "text": [
            "Epochs: 100%|██████████| 10/10 [01:21<00:00,  8.17s/it]"
          ]
        },
        {
          "output_type": "stream",
          "name": "stdout",
          "text": [
            "Epoch [10/10], Loss: 0.0060\n"
          ]
        },
        {
          "output_type": "stream",
          "name": "stderr",
          "text": [
            "\n"
          ]
        }
      ],
      "source": [
        "num_epochs = 10\n",
        "\n",
        "# Outer loop for epochs with tqdm\n",
        "for epoch in tqdm(range(num_epochs), desc=\"Epochs\"):\n",
        "    for data in train_loader:\n",
        "        img, _ = data\n",
        "        img = img.view(img.size(0), -1)  # Flatten the images\n",
        "        output = model(img)\n",
        "        loss = criterion(output, img)\n",
        "\n",
        "        optimizer.zero_grad()\n",
        "        loss.backward()\n",
        "        optimizer.step()\n",
        "\n",
        "    print(f\"Epoch [{epoch + 1}/{num_epochs}], Loss: {loss.item():.4f}\")"
      ]
    },
    {
      "cell_type": "markdown",
      "metadata": {
        "id": "3KSrRJlQcko7"
      },
      "source": [
        "<img src=\"https://github.com/gregworks/Hands-on-Generative-AI/blob/main/Day-2/images/border.jpg?raw=1\" height=\"10\" width=\"1500\" align=\"center\"/>"
      ]
    },
    {
      "cell_type": "markdown",
      "metadata": {
        "id": "9S1X-uABcko8"
      },
      "source": [
        "## **How good is our autoencoder?**"
      ]
    },
    {
      "cell_type": "markdown",
      "metadata": {
        "id": "9uI-K_X7cko8"
      },
      "source": [
        "6. Load and Preprocess the Test Data"
      ]
    },
    {
      "cell_type": "code",
      "execution_count": 17,
      "metadata": {
        "id": "KKx7tXVYcko8"
      },
      "outputs": [],
      "source": [
        "test_dataset = datasets.MNIST(root='./data', train=False, transform=transform, download=True)\n",
        "test_loader = torch.utils.data.DataLoader(test_dataset, batch_size=128, shuffle=False)"
      ]
    },
    {
      "cell_type": "markdown",
      "metadata": {
        "id": "8fbnEPoKcko8"
      },
      "source": [
        "7. Evaluate the Model"
      ]
    },
    {
      "cell_type": "code",
      "execution_count": 18,
      "metadata": {
        "colab": {
          "base_uri": "https://localhost:8080/"
        },
        "id": "yngGc097cko8",
        "outputId": "f8cb39be-f8b7-490a-f656-bc5125379b75"
      },
      "outputs": [
        {
          "output_type": "stream",
          "name": "stdout",
          "text": [
            "Average Reconstruction Loss on Test Set: 0.0053\n"
          ]
        }
      ],
      "source": [
        "model.eval()\n",
        "total_loss = 0\n",
        "with torch.no_grad():\n",
        "    for data in test_loader:\n",
        "        img, _ = data\n",
        "        img = img.view(img.size(0), -1)\n",
        "        output = model(img)\n",
        "        loss = criterion(output, img)\n",
        "        total_loss += loss.item()\n",
        "\n",
        "avg_loss = total_loss / len(test_loader)\n",
        "print(f\"Average Reconstruction Loss on Test Set: {avg_loss:.4f}\")"
      ]
    },
    {
      "cell_type": "markdown",
      "metadata": {
        "id": "IiVFXnjBcko8"
      },
      "source": [
        "<img src=\"https://github.com/gregworks/Hands-on-Generative-AI/blob/main/Day-2/images/border.jpg?raw=1\" height=\"10\" width=\"1500\" align=\"center\"/>"
      ]
    },
    {
      "cell_type": "markdown",
      "metadata": {
        "id": "JKE_Qa0Gcko8"
      },
      "source": [
        "8. Visualization of Original vs Reconstructed Images"
      ]
    },
    {
      "cell_type": "code",
      "execution_count": 19,
      "metadata": {
        "colab": {
          "base_uri": "https://localhost:8080/",
          "height": 342
        },
        "id": "CFl-Aupzcko8",
        "outputId": "2e2a861d-4e01-4d78-b5ae-b106f4434c04"
      },
      "outputs": [
        {
          "output_type": "display_data",
          "data": {
            "text/plain": [
              "<Figure size 2000x500 with 20 Axes>"
            ],
            "image/png": "[encoded data removed]"
          },
          "metadata": {}
        }
      ],
      "source": [
        "import matplotlib.pyplot as plt\n",
        "\n",
        "# Fetch a batch of images from the test set\n",
        "dataiter = iter(test_loader)\n",
        "images, _ = next(dataiter)\n",
        "\n",
        "# Pass images through the autoencoder\n",
        "with torch.no_grad():\n",
        "    images_flatten = images.view(images.size(0), -1)\n",
        "    outputs = model(images_flatten)\n",
        "    outputs = outputs.view(outputs.size(0), 1, 28, 28)\n",
        "\n",
        "# Display original and reconstructed images side by side\n",
        "fig, axes = plt.subplots(nrows=2, ncols=10, figsize=(20, 5))\n",
        "for i in range(10):\n",
        "    axes[0][i].imshow(images[i][0].cpu().numpy(), cmap='gray')\n",
        "    axes[1][i].imshow(outputs[i][0].cpu().numpy(), cmap='gray')\n",
        "    axes[0][i].axis('off')\n",
        "    axes[1][i].axis('off')\n",
        "\n",
        "plt.show()\n"
      ]
    },
    {
      "cell_type": "markdown",
      "metadata": {
        "id": "INa0BUEVcko9"
      },
      "source": [
        "<img src=\"https://github.com/gregworks/Hands-on-Generative-AI/blob/main/Day-2/images/border.jpg?raw=1\" height=\"10\" width=\"1500\" align=\"center\"/>"
      ]
    },
    {
      "cell_type": "markdown",
      "metadata": {
        "id": "AzkC2wp9cko9"
      },
      "source": [
        "## Question\n",
        "\n",
        "Assume that you built a perfect autoencoder, what is the primary motivation?\n",
        "\n",
        "<!-- encoded_representation = autoencoder.encoder(input_data) -->"
      ]
    },
    {
      "cell_type": "markdown",
      "metadata": {
        "id": "Ukdrrybqcko9"
      },
      "source": [
        "<img src=\"https://github.com/gregworks/Hands-on-Generative-AI/blob/main/Day-2/images/border.jpg?raw=1\" height=\"10\" width=\"1500\" align=\"center\"/>"
      ]
    },
    {
      "cell_type": "markdown",
      "metadata": {
        "id": "b06YtekPckpB"
      },
      "source": [
        "# Define the Advanced Autoencoder with Convolutional Layers"
      ]
    },
    {
      "cell_type": "code",
      "execution_count": 20,
      "metadata": {
        "id": "dhp2XHq2ckpB"
      },
      "outputs": [],
      "source": [
        "class Encoder(nn.Module):\n",
        "    def __init__(self):\n",
        "        super(Encoder, self).__init__()\n",
        "        self.conv1 = nn.Conv2d(1, 16, kernel_size=3, stride=1, padding=1)\n",
        "        self.conv2 = nn.Conv2d(16, 32, kernel_size=3, stride=1, padding=1)\n",
        "        self.pool = nn.MaxPool2d(kernel_size=2, stride=2, return_indices=True)\n",
        "\n",
        "    def forward(self, x):\n",
        "        x = F.relu(self.conv1(x))\n",
        "        x, indices1 = self.pool(x)\n",
        "        x = F.relu(self.conv2(x))\n",
        "        x, indices2 = self.pool(x)\n",
        "        return x, (indices1, indices2)\n"
      ]
    },
    {
      "cell_type": "code",
      "execution_count": 21,
      "metadata": {
        "id": "OIdefqQMckpC"
      },
      "outputs": [],
      "source": [
        "class Decoder(nn.Module):\n",
        "    def __init__(self):\n",
        "        super(Decoder, self).__init__()\n",
        "        self.unpool = nn.MaxUnpool2d(kernel_size=2, stride=2)\n",
        "        self.deconv1 = nn.ConvTranspose2d(32, 16, kernel_size=3, stride=1, padding=1)\n",
        "        self.deconv2 = nn.ConvTranspose2d(16, 1, kernel_size=3, stride=1, padding=1)\n",
        "\n",
        "    def forward(self, x, indices):\n",
        "        indices1, indices2 = indices\n",
        "        x = self.unpool(x, indices2)\n",
        "        x = F.relu(self.deconv1(x))\n",
        "        x = self.unpool(x, indices1)\n",
        "        x = torch.sigmoid(self.deconv2(x))\n",
        "        return x\n"
      ]
    },
    {
      "cell_type": "code",
      "execution_count": 22,
      "metadata": {
        "id": "V8vf7yKbckpC"
      },
      "outputs": [],
      "source": [
        "class ConvAutoencoder(nn.Module):\n",
        "    def __init__(self):\n",
        "        super(ConvAutoencoder, self).__init__()\n",
        "        self.encoder = Encoder()\n",
        "        self.decoder = Decoder()\n",
        "\n",
        "    def forward(self, x):\n",
        "        x, indices = self.encoder(x)\n",
        "        x = self.decoder(x, indices)\n",
        "        return x\n"
      ]
    },
    {
      "cell_type": "markdown",
      "metadata": {
        "id": "fbH3iOESckpC"
      },
      "source": [
        " 1. Import Necessary Libraries"
      ]
    },
    {
      "cell_type": "code",
      "execution_count": 23,
      "metadata": {
        "id": "VIZWeyelckpC"
      },
      "outputs": [],
      "source": [
        "import torch\n",
        "import torch.nn as nn\n",
        "import torch.nn.functional as F\n",
        "import torch.optim as optim\n",
        "from torchvision import datasets, transforms\n",
        "import matplotlib.pyplot as plt"
      ]
    },
    {
      "cell_type": "markdown",
      "metadata": {
        "id": "mT1cTbGrckpC"
      },
      "source": [
        "2. Set Hyperparameters & Data Loading\n"
      ]
    },
    {
      "cell_type": "code",
      "execution_count": 63,
      "metadata": {
        "id": "UKLhNymrckpC"
      },
      "outputs": [],
      "source": [
        "BATCH_SIZE = 64\n",
        "EPOCHS = 20  # Increased epochs\n",
        "LR = 0.001\n",
        "\n",
        "transform = transforms.Compose([\n",
        "    transforms.ToTensor(),\n",
        "])\n",
        "\n",
        "train_dataset = datasets.MNIST('./data', train=True, download=True, transform=transform)\n",
        "train_loader = torch.utils.data.DataLoader(train_dataset, batch_size=BATCH_SIZE, shuffle=True)\n",
        "\n",
        "test_dataset = datasets.MNIST('./data', train=False, transform=transform)\n",
        "test_loader = torch.utils.data.DataLoader(test_dataset, batch_size=BATCH_SIZE, shuffle=False)\n",
        "\n",
        "device = torch.device(\"cuda\" if torch.cuda.is_available() else \"cpu\")"
      ]
    },
    {
      "cell_type": "markdown",
      "metadata": {
        "id": "eoTPxILhckpC"
      },
      "source": [
        "3. Define the Autoencoder\n"
      ]
    },
    {
      "cell_type": "code",
      "execution_count": 64,
      "metadata": {
        "id": "lRHnkx_BckpD"
      },
      "outputs": [],
      "source": [
        "model = ConvAutoencoder().to(device)\n"
      ]
    },
    {
      "cell_type": "markdown",
      "metadata": {
        "id": "FTX6mTihckpD"
      },
      "source": [
        "4. Define Loss and Optimizer\n"
      ]
    },
    {
      "cell_type": "code",
      "execution_count": 65,
      "metadata": {
        "id": "JITUnVoRckpD"
      },
      "outputs": [],
      "source": [
        "criterion = nn.MSELoss()\n",
        "optimizer = optim.Adam(model.parameters(), lr=LR)\n"
      ]
    },
    {
      "cell_type": "markdown",
      "metadata": {
        "id": "fU3R1hBKckpD"
      },
      "source": [
        "5. Train the Autoencoder\n"
      ]
    },
    {
      "cell_type": "code",
      "execution_count": 66,
      "metadata": {
        "colab": {
          "base_uri": "https://localhost:8080/",
          "height": 425
        },
        "id": "pXEabPXPckpD",
        "outputId": "0ac84f75-4a0a-47ca-8ca4-9a4cfe6b292a"
      },
      "outputs": [
        {
          "output_type": "stream",
          "name": "stdout",
          "text": [
            "Epoch: 1/20, Train Loss: 0.0002\n",
            "Epoch: 2/20, Train Loss: 0.0000\n",
            "Epoch: 3/20, Train Loss: 0.0000\n",
            "Epoch: 4/20, Train Loss: 0.0000\n"
          ]
        },
        {
          "output_type": "error",
          "ename": "KeyboardInterrupt",
          "evalue": "",
          "traceback": [
            "\u001b[0;31m---------------------------------------------------------------------------\u001b[0m",
            "\u001b[0;31mKeyboardInterrupt\u001b[0m                         Traceback (most recent call last)",
            "\u001b[0;32m/tmp/ipython-input-2086065207.py\u001b[0m in \u001b[0;36m<cell line: 0>\u001b[0;34m()\u001b[0m\n\u001b[1;32m      3\u001b[0m     \u001b[0mtrain_loss\u001b[0m \u001b[0;34m=\u001b[0m \u001b[0;36m0\u001b[0m\u001b[0;34m\u001b[0m\u001b[0;34m\u001b[0m\u001b[0m\n\u001b[1;32m      4\u001b[0m \u001b[0;34m\u001b[0m\u001b[0m\n\u001b[0;32m----> 5\u001b[0;31m     \u001b[0;32mfor\u001b[0m \u001b[0mbatch_idx\u001b[0m\u001b[0;34m,\u001b[0m \u001b[0;34m(\u001b[0m\u001b[0mdata\u001b[0m\u001b[0;34m,\u001b[0m \u001b[0m_\u001b[0m\u001b[0;34m)\u001b[0m \u001b[0;32min\u001b[0m \u001b[0menumerate\u001b[0m\u001b[0;34m(\u001b[0m\u001b[0mtrain_loader\u001b[0m\u001b[0;34m)\u001b[0m\u001b[0;34m:\u001b[0m\u001b[0;34m\u001b[0m\u001b[0;34m\u001b[0m\u001b[0m\n\u001b[0m\u001b[1;32m      6\u001b[0m         \u001b[0mdata\u001b[0m \u001b[0;34m=\u001b[0m \u001b[0mdata\u001b[0m\u001b[0;34m.\u001b[0m\u001b[0mto\u001b[0m\u001b[0;34m(\u001b[0m\u001b[0mdevice\u001b[0m\u001b[0;34m)\u001b[0m\u001b[0;34m\u001b[0m\u001b[0;34m\u001b[0m\u001b[0m\n\u001b[1;32m      7\u001b[0m         \u001b[0moptimizer\u001b[0m\u001b[0;34m.\u001b[0m\u001b[0mzero_grad\u001b[0m\u001b[0;34m(\u001b[0m\u001b[0;34m)\u001b[0m\u001b[0;34m\u001b[0m\u001b[0;34m\u001b[0m\u001b[0m\n",
            "\u001b[0;32m/usr/local/lib/python3.11/dist-packages/torch/utils/data/dataloader.py\u001b[0m in \u001b[0;36m__next__\u001b[0;34m(self)\u001b[0m\n\u001b[1;32m    706\u001b[0m                 \u001b[0;31m# TODO(https://github.com/pytorch/pytorch/issues/76750)\u001b[0m\u001b[0;34m\u001b[0m\u001b[0;34m\u001b[0m\u001b[0m\n\u001b[1;32m    707\u001b[0m                 \u001b[0mself\u001b[0m\u001b[0;34m.\u001b[0m\u001b[0m_reset\u001b[0m\u001b[0;34m(\u001b[0m\u001b[0;34m)\u001b[0m  \u001b[0;31m# type: ignore[call-arg]\u001b[0m\u001b[0;34m\u001b[0m\u001b[0;34m\u001b[0m\u001b[0m\n\u001b[0;32m--> 708\u001b[0;31m             \u001b[0mdata\u001b[0m \u001b[0;34m=\u001b[0m \u001b[0mself\u001b[0m\u001b[0;34m.\u001b[0m\u001b[0m_next_data\u001b[0m\u001b[0;34m(\u001b[0m\u001b[0;34m)\u001b[0m\u001b[0;34m\u001b[0m\u001b[0;34m\u001b[0m\u001b[0m\n\u001b[0m\u001b[1;32m    709\u001b[0m             \u001b[0mself\u001b[0m\u001b[0;34m.\u001b[0m\u001b[0m_num_yielded\u001b[0m \u001b[0;34m+=\u001b[0m \u001b[0;36m1\u001b[0m\u001b[0;34m\u001b[0m\u001b[0;34m\u001b[0m\u001b[0m\n\u001b[1;32m    710\u001b[0m             if (\n",
            "\u001b[0;32m/usr/local/lib/python3.11/dist-packages/torch/utils/data/dataloader.py\u001b[0m in \u001b[0;36m_next_data\u001b[0;34m(self)\u001b[0m\n\u001b[1;32m    762\u001b[0m     \u001b[0;32mdef\u001b[0m \u001b[0m_next_data\u001b[0m\u001b[0;34m(\u001b[0m\u001b[0mself\u001b[0m\u001b[0;34m)\u001b[0m\u001b[0;34m:\u001b[0m\u001b[0;34m\u001b[0m\u001b[0;34m\u001b[0m\u001b[0m\n\u001b[1;32m    763\u001b[0m         \u001b[0mindex\u001b[0m \u001b[0;34m=\u001b[0m \u001b[0mself\u001b[0m\u001b[0;34m.\u001b[0m\u001b[0m_next_index\u001b[0m\u001b[0;34m(\u001b[0m\u001b[0;34m)\u001b[0m  \u001b[0;31m# may raise StopIteration\u001b[0m\u001b[0;34m\u001b[0m\u001b[0;34m\u001b[0m\u001b[0m\n\u001b[0;32m--> 764\u001b[0;31m         \u001b[0mdata\u001b[0m \u001b[0;34m=\u001b[0m \u001b[0mself\u001b[0m\u001b[0;34m.\u001b[0m\u001b[0m_dataset_fetcher\u001b[0m\u001b[0;34m.\u001b[0m\u001b[0mfetch\u001b[0m\u001b[0;34m(\u001b[0m\u001b[0mindex\u001b[0m\u001b[0;34m)\u001b[0m  \u001b[0;31m# may raise StopIteration\u001b[0m\u001b[0;34m\u001b[0m\u001b[0;34m\u001b[0m\u001b[0m\n\u001b[0m\u001b[1;32m    765\u001b[0m         \u001b[0;32mif\u001b[0m \u001b[0mself\u001b[0m\u001b[0;34m.\u001b[0m\u001b[0m_pin_memory\u001b[0m\u001b[0;34m:\u001b[0m\u001b[0;34m\u001b[0m\u001b[0;34m\u001b[0m\u001b[0m\n\u001b[1;32m    766\u001b[0m             \u001b[0mdata\u001b[0m \u001b[0;34m=\u001b[0m \u001b[0m_utils\u001b[0m\u001b[0;34m.\u001b[0m\u001b[0mpin_memory\u001b[0m\u001b[0;34m.\u001b[0m\u001b[0mpin_memory\u001b[0m\u001b[0;34m(\u001b[0m\u001b[0mdata\u001b[0m\u001b[0;34m,\u001b[0m \u001b[0mself\u001b[0m\u001b[0;34m.\u001b[0m\u001b[0m_pin_memory_device\u001b[0m\u001b[0;34m)\u001b[0m\u001b[0;34m\u001b[0m\u001b[0;34m\u001b[0m\u001b[0m\n",
            "\u001b[0;32m/usr/local/lib/python3.11/dist-packages/torch/utils/data/_utils/fetch.py\u001b[0m in \u001b[0;36mfetch\u001b[0;34m(self, possibly_batched_index)\u001b[0m\n\u001b[1;32m     50\u001b[0m                 \u001b[0mdata\u001b[0m \u001b[0;34m=\u001b[0m \u001b[0mself\u001b[0m\u001b[0;34m.\u001b[0m\u001b[0mdataset\u001b[0m\u001b[0;34m.\u001b[0m\u001b[0m__getitems__\u001b[0m\u001b[0;34m(\u001b[0m\u001b[0mpossibly_batched_index\u001b[0m\u001b[0;34m)\u001b[0m\u001b[0;34m\u001b[0m\u001b[0;34m\u001b[0m\u001b[0m\n\u001b[1;32m     51\u001b[0m             \u001b[0;32melse\u001b[0m\u001b[0;34m:\u001b[0m\u001b[0;34m\u001b[0m\u001b[0;34m\u001b[0m\u001b[0m\n\u001b[0;32m---> 52\u001b[0;31m                 \u001b[0mdata\u001b[0m \u001b[0;34m=\u001b[0m \u001b[0;34m[\u001b[0m\u001b[0mself\u001b[0m\u001b[0;34m.\u001b[0m\u001b[0mdataset\u001b[0m\u001b[0;34m[\u001b[0m\u001b[0midx\u001b[0m\u001b[0;34m]\u001b[0m \u001b[0;32mfor\u001b[0m \u001b[0midx\u001b[0m \u001b[0;32min\u001b[0m \u001b[0mpossibly_batched_index\u001b[0m\u001b[0;34m]\u001b[0m\u001b[0;34m\u001b[0m\u001b[0;34m\u001b[0m\u001b[0m\n\u001b[0m\u001b[1;32m     53\u001b[0m         \u001b[0;32melse\u001b[0m\u001b[0;34m:\u001b[0m\u001b[0;34m\u001b[0m\u001b[0;34m\u001b[0m\u001b[0m\n\u001b[1;32m     54\u001b[0m             \u001b[0mdata\u001b[0m \u001b[0;34m=\u001b[0m \u001b[0mself\u001b[0m\u001b[0;34m.\u001b[0m\u001b[0mdataset\u001b[0m\u001b[0;34m[\u001b[0m\u001b[0mpossibly_batched_index\u001b[0m\u001b[0;34m]\u001b[0m\u001b[0;34m\u001b[0m\u001b[0;34m\u001b[0m\u001b[0m\n",
            "\u001b[0;32m/usr/local/lib/python3.11/dist-packages/torch/utils/data/_utils/fetch.py\u001b[0m in \u001b[0;36m<listcomp>\u001b[0;34m(.0)\u001b[0m\n\u001b[1;32m     50\u001b[0m                 \u001b[0mdata\u001b[0m \u001b[0;34m=\u001b[0m \u001b[0mself\u001b[0m\u001b[0;34m.\u001b[0m\u001b[0mdataset\u001b[0m\u001b[0;34m.\u001b[0m\u001b[0m__getitems__\u001b[0m\u001b[0;34m(\u001b[0m\u001b[0mpossibly_batched_index\u001b[0m\u001b[0;34m)\u001b[0m\u001b[0;34m\u001b[0m\u001b[0;34m\u001b[0m\u001b[0m\n\u001b[1;32m     51\u001b[0m             \u001b[0;32melse\u001b[0m\u001b[0;34m:\u001b[0m\u001b[0;34m\u001b[0m\u001b[0;34m\u001b[0m\u001b[0m\n\u001b[0;32m---> 52\u001b[0;31m                 \u001b[0mdata\u001b[0m \u001b[0;34m=\u001b[0m \u001b[0;34m[\u001b[0m\u001b[0mself\u001b[0m\u001b[0;34m.\u001b[0m\u001b[0mdataset\u001b[0m\u001b[0;34m[\u001b[0m\u001b[0midx\u001b[0m\u001b[0;34m]\u001b[0m \u001b[0;32mfor\u001b[0m \u001b[0midx\u001b[0m \u001b[0;32min\u001b[0m \u001b[0mpossibly_batched_index\u001b[0m\u001b[0;34m]\u001b[0m\u001b[0;34m\u001b[0m\u001b[0;34m\u001b[0m\u001b[0m\n\u001b[0m\u001b[1;32m     53\u001b[0m         \u001b[0;32melse\u001b[0m\u001b[0;34m:\u001b[0m\u001b[0;34m\u001b[0m\u001b[0;34m\u001b[0m\u001b[0m\n\u001b[1;32m     54\u001b[0m             \u001b[0mdata\u001b[0m \u001b[0;34m=\u001b[0m \u001b[0mself\u001b[0m\u001b[0;34m.\u001b[0m\u001b[0mdataset\u001b[0m\u001b[0;34m[\u001b[0m\u001b[0mpossibly_batched_index\u001b[0m\u001b[0;34m]\u001b[0m\u001b[0;34m\u001b[0m\u001b[0;34m\u001b[0m\u001b[0m\n",
            "\u001b[0;32m/usr/local/lib/python3.11/dist-packages/torchvision/datasets/mnist.py\u001b[0m in \u001b[0;36m__getitem__\u001b[0;34m(self, index)\u001b[0m\n\u001b[1;32m    144\u001b[0m \u001b[0;34m\u001b[0m\u001b[0m\n\u001b[1;32m    145\u001b[0m         \u001b[0;32mif\u001b[0m \u001b[0mself\u001b[0m\u001b[0;34m.\u001b[0m\u001b[0mtransform\u001b[0m \u001b[0;32mis\u001b[0m \u001b[0;32mnot\u001b[0m \u001b[0;32mNone\u001b[0m\u001b[0;34m:\u001b[0m\u001b[0;34m\u001b[0m\u001b[0;34m\u001b[0m\u001b[0m\n\u001b[0;32m--> 146\u001b[0;31m             \u001b[0mimg\u001b[0m \u001b[0;34m=\u001b[0m \u001b[0mself\u001b[0m\u001b[0;34m.\u001b[0m\u001b[0mtransform\u001b[0m\u001b[0;34m(\u001b[0m\u001b[0mimg\u001b[0m\u001b[0;34m)\u001b[0m\u001b[0;34m\u001b[0m\u001b[0;34m\u001b[0m\u001b[0m\n\u001b[0m\u001b[1;32m    147\u001b[0m \u001b[0;34m\u001b[0m\u001b[0m\n\u001b[1;32m    148\u001b[0m         \u001b[0;32mif\u001b[0m \u001b[0mself\u001b[0m\u001b[0;34m.\u001b[0m\u001b[0mtarget_transform\u001b[0m \u001b[0;32mis\u001b[0m \u001b[0;32mnot\u001b[0m \u001b[0;32mNone\u001b[0m\u001b[0;34m:\u001b[0m\u001b[0;34m\u001b[0m\u001b[0;34m\u001b[0m\u001b[0m\n",
            "\u001b[0;32m/usr/local/lib/python3.11/dist-packages/torchvision/transforms/transforms.py\u001b[0m in \u001b[0;36m__call__\u001b[0;34m(self, img)\u001b[0m\n\u001b[1;32m     93\u001b[0m     \u001b[0;32mdef\u001b[0m \u001b[0m__call__\u001b[0m\u001b[0;34m(\u001b[0m\u001b[0mself\u001b[0m\u001b[0;34m,\u001b[0m \u001b[0mimg\u001b[0m\u001b[0;34m)\u001b[0m\u001b[0;34m:\u001b[0m\u001b[0;34m\u001b[0m\u001b[0;34m\u001b[0m\u001b[0m\n\u001b[1;32m     94\u001b[0m         \u001b[0;32mfor\u001b[0m \u001b[0mt\u001b[0m \u001b[0;32min\u001b[0m \u001b[0mself\u001b[0m\u001b[0;34m.\u001b[0m\u001b[0mtransforms\u001b[0m\u001b[0;34m:\u001b[0m\u001b[0;34m\u001b[0m\u001b[0;34m\u001b[0m\u001b[0m\n\u001b[0;32m---> 95\u001b[0;31m             \u001b[0mimg\u001b[0m \u001b[0;34m=\u001b[0m \u001b[0mt\u001b[0m\u001b[0;34m(\u001b[0m\u001b[0mimg\u001b[0m\u001b[0;34m)\u001b[0m\u001b[0;34m\u001b[0m\u001b[0;34m\u001b[0m\u001b[0m\n\u001b[0m\u001b[1;32m     96\u001b[0m         \u001b[0;32mreturn\u001b[0m \u001b[0mimg\u001b[0m\u001b[0;34m\u001b[0m\u001b[0;34m\u001b[0m\u001b[0m\n\u001b[1;32m     97\u001b[0m \u001b[0;34m\u001b[0m\u001b[0m\n",
            "\u001b[0;32m/usr/local/lib/python3.11/dist-packages/torchvision/transforms/transforms.py\u001b[0m in \u001b[0;36m__call__\u001b[0;34m(self, pic)\u001b[0m\n\u001b[1;32m    135\u001b[0m             \u001b[0mTensor\u001b[0m\u001b[0;34m:\u001b[0m \u001b[0mConverted\u001b[0m \u001b[0mimage\u001b[0m\u001b[0;34m.\u001b[0m\u001b[0;34m\u001b[0m\u001b[0;34m\u001b[0m\u001b[0m\n\u001b[1;32m    136\u001b[0m         \"\"\"\n\u001b[0;32m--> 137\u001b[0;31m         \u001b[0;32mreturn\u001b[0m \u001b[0mF\u001b[0m\u001b[0;34m.\u001b[0m\u001b[0mto_tensor\u001b[0m\u001b[0;34m(\u001b[0m\u001b[0mpic\u001b[0m\u001b[0;34m)\u001b[0m\u001b[0;34m\u001b[0m\u001b[0;34m\u001b[0m\u001b[0m\n\u001b[0m\u001b[1;32m    138\u001b[0m \u001b[0;34m\u001b[0m\u001b[0m\n\u001b[1;32m    139\u001b[0m     \u001b[0;32mdef\u001b[0m \u001b[0m__repr__\u001b[0m\u001b[0;34m(\u001b[0m\u001b[0mself\u001b[0m\u001b[0;34m)\u001b[0m \u001b[0;34m->\u001b[0m \u001b[0mstr\u001b[0m\u001b[0;34m:\u001b[0m\u001b[0;34m\u001b[0m\u001b[0;34m\u001b[0m\u001b[0m\n",
            "\u001b[0;32m/usr/local/lib/python3.11/dist-packages/torchvision/transforms/functional.py\u001b[0m in \u001b[0;36mto_tensor\u001b[0;34m(pic)\u001b[0m\n\u001b[1;32m    166\u001b[0m     \u001b[0;31m# handle PIL Image\u001b[0m\u001b[0;34m\u001b[0m\u001b[0;34m\u001b[0m\u001b[0m\n\u001b[1;32m    167\u001b[0m     \u001b[0mmode_to_nptype\u001b[0m \u001b[0;34m=\u001b[0m \u001b[0;34m{\u001b[0m\u001b[0;34m\"I\"\u001b[0m\u001b[0;34m:\u001b[0m \u001b[0mnp\u001b[0m\u001b[0;34m.\u001b[0m\u001b[0mint32\u001b[0m\u001b[0;34m,\u001b[0m \u001b[0;34m\"I;16\"\u001b[0m \u001b[0;32mif\u001b[0m \u001b[0msys\u001b[0m\u001b[0;34m.\u001b[0m\u001b[0mbyteorder\u001b[0m \u001b[0;34m==\u001b[0m \u001b[0;34m\"little\"\u001b[0m \u001b[0;32melse\u001b[0m \u001b[0;34m\"I;16B\"\u001b[0m\u001b[0;34m:\u001b[0m \u001b[0mnp\u001b[0m\u001b[0;34m.\u001b[0m\u001b[0mint16\u001b[0m\u001b[0;34m,\u001b[0m \u001b[0;34m\"F\"\u001b[0m\u001b[0;34m:\u001b[0m \u001b[0mnp\u001b[0m\u001b[0;34m.\u001b[0m\u001b[0mfloat32\u001b[0m\u001b[0;34m}\u001b[0m\u001b[0;34m\u001b[0m\u001b[0;34m\u001b[0m\u001b[0m\n\u001b[0;32m--> 168\u001b[0;31m     \u001b[0mimg\u001b[0m \u001b[0;34m=\u001b[0m \u001b[0mtorch\u001b[0m\u001b[0;34m.\u001b[0m\u001b[0mfrom_numpy\u001b[0m\u001b[0;34m(\u001b[0m\u001b[0mnp\u001b[0m\u001b[0;34m.\u001b[0m\u001b[0marray\u001b[0m\u001b[0;34m(\u001b[0m\u001b[0mpic\u001b[0m\u001b[0;34m,\u001b[0m \u001b[0mmode_to_nptype\u001b[0m\u001b[0;34m.\u001b[0m\u001b[0mget\u001b[0m\u001b[0;34m(\u001b[0m\u001b[0mpic\u001b[0m\u001b[0;34m.\u001b[0m\u001b[0mmode\u001b[0m\u001b[0;34m,\u001b[0m \u001b[0mnp\u001b[0m\u001b[0;34m.\u001b[0m\u001b[0muint8\u001b[0m\u001b[0;34m)\u001b[0m\u001b[0;34m,\u001b[0m \u001b[0mcopy\u001b[0m\u001b[0;34m=\u001b[0m\u001b[0;32mTrue\u001b[0m\u001b[0;34m)\u001b[0m\u001b[0;34m)\u001b[0m\u001b[0;34m\u001b[0m\u001b[0;34m\u001b[0m\u001b[0m\n\u001b[0m\u001b[1;32m    169\u001b[0m \u001b[0;34m\u001b[0m\u001b[0m\n\u001b[1;32m    170\u001b[0m     \u001b[0;32mif\u001b[0m \u001b[0mpic\u001b[0m\u001b[0;34m.\u001b[0m\u001b[0mmode\u001b[0m \u001b[0;34m==\u001b[0m \u001b[0;34m\"1\"\u001b[0m\u001b[0;34m:\u001b[0m\u001b[0;34m\u001b[0m\u001b[0;34m\u001b[0m\u001b[0m\n",
            "\u001b[0;32m/usr/local/lib/python3.11/dist-packages/PIL/Image.py\u001b[0m in \u001b[0;36m__array_interface__\u001b[0;34m(self)\u001b[0m\n\u001b[1;32m    724\u001b[0m         \u001b[0;32mreturn\u001b[0m \u001b[0mself\u001b[0m\u001b[0;34m.\u001b[0m\u001b[0m_repr_image\u001b[0m\u001b[0;34m(\u001b[0m\u001b[0;34m\"JPEG\"\u001b[0m\u001b[0;34m)\u001b[0m\u001b[0;34m\u001b[0m\u001b[0;34m\u001b[0m\u001b[0m\n\u001b[1;32m    725\u001b[0m \u001b[0;34m\u001b[0m\u001b[0m\n\u001b[0;32m--> 726\u001b[0;31m     \u001b[0;34m@\u001b[0m\u001b[0mproperty\u001b[0m\u001b[0;34m\u001b[0m\u001b[0;34m\u001b[0m\u001b[0m\n\u001b[0m\u001b[1;32m    727\u001b[0m     \u001b[0;32mdef\u001b[0m \u001b[0m__array_interface__\u001b[0m\u001b[0;34m(\u001b[0m\u001b[0mself\u001b[0m\u001b[0;34m)\u001b[0m \u001b[0;34m->\u001b[0m \u001b[0mdict\u001b[0m\u001b[0;34m[\u001b[0m\u001b[0mstr\u001b[0m\u001b[0;34m,\u001b[0m \u001b[0mstr\u001b[0m \u001b[0;34m|\u001b[0m \u001b[0mbytes\u001b[0m \u001b[0;34m|\u001b[0m \u001b[0mint\u001b[0m \u001b[0;34m|\u001b[0m \u001b[0mtuple\u001b[0m\u001b[0;34m[\u001b[0m\u001b[0mint\u001b[0m\u001b[0;34m,\u001b[0m \u001b[0;34m...\u001b[0m\u001b[0;34m]\u001b[0m\u001b[0;34m]\u001b[0m\u001b[0;34m:\u001b[0m\u001b[0;34m\u001b[0m\u001b[0;34m\u001b[0m\u001b[0m\n\u001b[1;32m    728\u001b[0m         \u001b[0;31m# numpy array interface support\u001b[0m\u001b[0;34m\u001b[0m\u001b[0;34m\u001b[0m\u001b[0m\n",
            "\u001b[0;31mKeyboardInterrupt\u001b[0m: "
          ]
        }
      ],
      "source": [
        "for epoch in range(EPOCHS):\n",
        "    model.train()\n",
        "    train_loss = 0\n",
        "\n",
        "    for batch_idx, (data, _) in enumerate(train_loader):\n",
        "        data = data.to(device)\n",
        "        optimizer.zero_grad()\n",
        "\n",
        "        outputs = model(data)\n",
        "        loss = criterion(outputs, data)\n",
        "        loss.backward()\n",
        "        optimizer.step()\n",
        "\n",
        "        train_loss += loss.item()\n",
        "\n",
        "    train_loss /= len(train_loader.dataset)\n",
        "    print(f\"Epoch: {epoch+1}/{EPOCHS}, Train Loss: {train_loss:.4f}\")\n"
      ]
    },
    {
      "cell_type": "markdown",
      "metadata": {
        "id": "xFfG-dLYckpD"
      },
      "source": [
        "6. Test and Visualize Results\n"
      ]
    },
    {
      "cell_type": "code",
      "execution_count": 28,
      "metadata": {
        "colab": {
          "base_uri": "https://localhost:8080/",
          "height": 342
        },
        "id": "D1iyxiGAckpD",
        "outputId": "a794e053-5271-4771-e9a9-564f29a5d42e"
      },
      "outputs": [
        {
          "output_type": "display_data",
          "data": {
            "text/plain": [
              "<Figure size 2000x500 with 20 Axes>"
            ],
            "image/png": "[encoded data removed]"
          },
          "metadata": {}
        }
      ],
      "source": [
        "model.eval()\n",
        "with torch.no_grad():\n",
        "    dataiter = iter(test_loader)\n",
        "    images, _ = next(dataiter)\n",
        "    images = images.to(device)\n",
        "    outputs = model(images)\n",
        "\n",
        "    fig, axes = plt.subplots(nrows=2, ncols=10, figsize=(20, 5))\n",
        "    for i in range(10):\n",
        "        axes[0][i].imshow(images[i][0].cpu().numpy(), cmap='gray')\n",
        "        axes[1][i].imshow(outputs[i][0].cpu().numpy(), cmap='gray')\n",
        "        axes[0][i].axis('off')\n",
        "        axes[1][i].axis('off')\n",
        "\n",
        "    plt.show()\n"
      ]
    },
    {
      "cell_type": "markdown",
      "metadata": {
        "id": "p9oXV5zeckpE"
      },
      "source": [
        "<img src=\"https://github.com/gregworks/Hands-on-Generative-AI/blob/main/Day-2/images/border.jpg?raw=1\" height=\"10\" width=\"1500\" align=\"center\"/>"
      ]
    },
    {
      "cell_type": "markdown",
      "metadata": {
        "id": "t_jc--ngckpE"
      },
      "source": [
        "## **Denoising**\n",
        "\n",
        "Autoencoders are powerful neural network architectures commonly used for dimensionality reduction, anomaly detection, and more. One of their exciting applications is in **denoising images**.\n",
        "\n",
        "### How Does it Work?\n",
        "\n",
        "1. **Starting Point**: Use original, noise-free images.\n",
        "2. **Add Artificial Noise**: Before feeding them to the autoencoder, introduce some random noise to these images.\n",
        "3. **Training Objective**: Train the autoencoder using the noisy images as input, aiming to reconstruct the original noise-free images as its output."
      ]
    },
    {
      "cell_type": "code",
      "execution_count": 29,
      "metadata": {
        "id": "Zl2ow0ZOckpE"
      },
      "outputs": [],
      "source": [
        "import torch\n",
        "import torch.nn as nn\n",
        "import torch.optim as optim\n",
        "from torchvision import datasets, transforms\n",
        "import matplotlib.pyplot as plt\n",
        "import numpy as np\n",
        "\n",
        "# Data loading\n",
        "transform = transforms.Compose([transforms.ToTensor()])\n",
        "train_dataset = datasets.MNIST(root='./data', train=True, transform=transform, download=True)\n",
        "train_loader = torch.utils.data.DataLoader(train_dataset, batch_size=32, shuffle=True)\n",
        "\n"
      ]
    },
    {
      "cell_type": "code",
      "execution_count": 30,
      "metadata": {
        "id": "oIwHfy9cckpE"
      },
      "outputs": [],
      "source": [
        "# Add noise function\n",
        "def add_noise(img, noise_factor=0.5):\n",
        "    noise = torch.randn_like(img) * noise_factor\n",
        "    noisy_img = img + noise\n",
        "    return torch.clamp(noisy_img, 0., 1.)"
      ]
    },
    {
      "cell_type": "code",
      "execution_count": 31,
      "metadata": {
        "colab": {
          "base_uri": "https://localhost:8080/"
        },
        "id": "wH7gnIK-ckpE",
        "outputId": "26fd9f6b-4126-41a8-903e-6ce45e1f0b23"
      },
      "outputs": [
        {
          "output_type": "stream",
          "name": "stdout",
          "text": [
            "Epoch [1/5], Loss: 0.0157\n",
            "Epoch [2/5], Loss: 0.0137\n",
            "Epoch [3/5], Loss: 0.0134\n",
            "Epoch [4/5], Loss: 0.0121\n",
            "Epoch [5/5], Loss: 0.0115\n"
          ]
        }
      ],
      "source": [
        "# Training\n",
        "device = torch.device(\"cuda\" if torch.cuda.is_available() else \"cpu\")\n",
        "model = ConvAutoencoder().to(device)\n",
        "criterion = nn.MSELoss()\n",
        "optimizer = optim.Adam(model.parameters(), lr=0.001)\n",
        "\n",
        "num_epochs = 5\n",
        "for epoch in range(num_epochs):\n",
        "    for data in train_loader:\n",
        "        img, _ = data\n",
        "        noisy_img = add_noise(img)\n",
        "        noisy_img = noisy_img.to(device)\n",
        "        optimizer.zero_grad()\n",
        "        outputs = model(noisy_img)\n",
        "        loss = criterion(outputs, img.to(device))\n",
        "        loss.backward()\n",
        "        optimizer.step()\n",
        "\n",
        "    print(f'Epoch [{epoch+1}/{num_epochs}], Loss: {loss.item():.4f}')"
      ]
    },
    {
      "cell_type": "code",
      "execution_count": 32,
      "metadata": {
        "colab": {
          "base_uri": "https://localhost:8080/",
          "height": 471
        },
        "id": "Vclspm4tckpE",
        "outputId": "fefa3886-0f72-44eb-8b0b-c922e023ffe0"
      },
      "outputs": [
        {
          "output_type": "display_data",
          "data": {
            "text/plain": [
              "<Figure size 640x480 with 15 Axes>"
            ],
            "image/png": "[encoded data removed]"
          },
          "metadata": {}
        }
      ],
      "source": [
        "# Visualization\n",
        "model.eval()\n",
        "with torch.no_grad():\n",
        "    # Get a batch of data\n",
        "    for data in train_loader:\n",
        "        images, _ = data\n",
        "        noisy_images = add_noise(images)\n",
        "\n",
        "        outputs = model(noisy_images.to(device))\n",
        "        outputs = outputs.cpu()\n",
        "\n",
        "        # Plot noisy images\n",
        "        for i in range(5):\n",
        "            plt.subplot(3, 5, i + 1)\n",
        "            plt.imshow(noisy_images[i][0], cmap='gray')\n",
        "            plt.title(\"Noisy\")\n",
        "            plt.axis('off')\n",
        "\n",
        "            # Plot denoised images\n",
        "            plt.subplot(3, 5, i + 6)\n",
        "            plt.imshow(outputs[i][0], cmap='gray')\n",
        "            plt.title(\"Denoised\")\n",
        "            plt.axis('off')\n",
        "\n",
        "            # Plot original images\n",
        "            plt.subplot(3, 5, i + 11)\n",
        "            plt.imshow(images[i][0], cmap='gray')\n",
        "            plt.title(\"Original\")\n",
        "            plt.axis('off')\n",
        "\n",
        "    plt.tight_layout()\n",
        "    plt.show()\n"
      ]
    },
    {
      "cell_type": "markdown",
      "metadata": {
        "id": "ls4bZNeOckpF"
      },
      "source": [
        "<img src=\"https://github.com/gregworks/Hands-on-Generative-AI/blob/main/Day-2/images/border.jpg?raw=1\" height=\"10\" width=\"1500\" align=\"center\"/>"
      ]
    },
    {
      "cell_type": "markdown",
      "metadata": {
        "id": "9oZy7HbfckpF"
      },
      "source": [
        "# Variational Auto-Encoders (VAE)\n",
        "[Link to Paper](https://arxiv.org/abs/1906.02691)\n",
        "\n",
        "\n",
        "## Traditional Autoencoders\n",
        "\n",
        "- Reduce the dimension of the input data.\n",
        "- Learn essential features of input images.\n",
        "- **Problem**:\n",
        "  - Can reconstruct the input.\n",
        "    - But, doesn't always work as a generative model.\n",
        "  - Decoding a random input doesn't guarantee a logical image\n",
        "\n",
        "For instance, with the MNIST dataset:\n",
        "- Close latent vectors might not relate to the same digits.\n",
        "- Understanding which digit corresponds to different latent vectors is challenging.\n",
        "\n",
        "\n",
        "## The Encoder in VAE\n",
        "\n",
        "- Traditional autoencoder: One latent point for one input.\n",
        "- VAE's encoder: Produces a **probability distribution** in the latent space.\n",
        "- Outputs gaussians with parameters.\n",
        "\n",
        "![Encoder Diagram](https://github.com/gregworks/Hands-on-Generative-AI/blob/main/Day-2/images/VAE3.svg?raw=1)\n",
        "\n",
        "<img src=\"https://github.com/gregworks/Hands-on-Generative-AI/blob/main/Day-2/images/border.jpg?raw=1\" height=\"10\" width=\"1500\" align=\"center\"/>\n",
        "\n",
        "# Goal of a Variational Autoencoder\n",
        "\n",
        "- VAE is a **generative model**.\n",
        "- Generates fake samples resembling training data.\n",
        "- For MNIST: Synthesize images of handwritten digits.\n",
        "- Provides a \"latent space\" for sampling.\n",
        "- Decoding any point gives a reasonable image of a digit.\n",
        "\n",
        "\n",
        "<img src=\"https://github.com/gregworks/Hands-on-Generative-AI/blob/main/Day-2/images/border.jpg?raw=1\" height=\"10\" width=\"1500\" align=\"center\"/>\n",
        "\n",
        "## Enter the Variational Auto-Encoder (VAE)\n",
        "\n",
        "- VAEs are designed to understand the latent space better.\n",
        "- They predict the *statistical distribution* of latent parameters: the **latent distribution**.\n",
        "- This makes VAEs suitable for training *generative* models.\n",
        "\n",
        "\n",
        "## VAE Workflow\n",
        "\n",
        "1. Encoder receives an image.\n",
        "2. Produces a probability distribution in latent space.\n",
        "3. Sample a point from this distribution.\n",
        "4. Decoder uses this point to craft an artificial image.\n",
        "\n",
        "\n",
        "\n",
        "1. From the input, predict `z_mean` and `z_log`.\n",
        "2. Instead of standard deviation, we predict its logarithm.\n",
        "3. Sample a vector (`sample` or `z_val` in code) from the distribution $N(\\mathrm{z\\_mean},e^{\\mathrm{z\\_log\\_sigma}})$.\n",
        "4. Decoder then uses the `sample` vector to try and recreate the original image.\n",
        "\n",
        "\n",
        "<img src=\"https://github.com/gregworks/Hands-on-Generative-AI/blob/main/Day-2/images/border.jpg?raw=1\" height=\"10\" width=\"1500\" align=\"center\"/>\n",
        "\n",
        "## Visual Representation of VAE\n",
        "![VAE Diagram](https://github.com/gregworks/Hands-on-Generative-AI/blob/main/Day-2/images/vae.png?raw=1)\n",
        "\n",
        "> Image Source: [Blog Post by Isaak Dykeman](https://ijdykeman.github.io/ml/2016/12/21/cvae.html)\n"
      ]
    },
    {
      "cell_type": "markdown",
      "metadata": {
        "id": "PNnUsXQ9ckpF"
      },
      "source": [
        "<img src=\"https://github.com/gregworks/Hands-on-Generative-AI/blob/main/Day-2/images/border.jpg?raw=1\" height=\"10\" width=\"1500\" align=\"center\"/>"
      ]
    },
    {
      "cell_type": "markdown",
      "metadata": {
        "id": "ZBcvyDo3ckpF"
      },
      "source": [
        "# VAE Architecture\n",
        "Define the Encoder, Reparameterization trick, and Decoder.\n"
      ]
    },
    {
      "cell_type": "code",
      "execution_count": 82,
      "metadata": {
        "id": "tqr-zew1ckpF"
      },
      "outputs": [],
      "source": [
        "class VAEEncoder(nn.Module):\n",
        "    def __init__(self, device):\n",
        "        super().__init__()\n",
        "        self.intermediate_dim = 512\n",
        "        self.latent_dim = 40\n",
        "        self.linear = nn.Linear(784, self.intermediate_dim)\n",
        "        self.z_mean = nn.Linear(self.intermediate_dim, self.latent_dim)\n",
        "        self.z_log = nn.Linear(self.intermediate_dim, self.latent_dim)\n",
        "        self.relu = nn.ReLU()\n",
        "        self.device = device\n",
        "\n",
        "    def forward(self, input):\n",
        "        bs = input.shape[0]\n",
        "\n",
        "        hidden = self.relu(self.linear(input))\n",
        "        z_mean = self.z_mean(hidden)\n",
        "        z_log = self.z_log(hidden)\n",
        "\n",
        "        eps = torch.FloatTensor(np.random.normal(size=(bs, self.latent_dim))).to(device)\n",
        "        z_val = z_mean + torch.exp(z_log) * eps\n",
        "        return z_mean, z_log, z_val"
      ]
    },
    {
      "cell_type": "code",
      "execution_count": 83,
      "metadata": {
        "id": "sqYB-SlBckpF"
      },
      "outputs": [],
      "source": [
        "class VAEDecoder(nn.Module):\n",
        "    def __init__(self):\n",
        "        super().__init__()\n",
        "        self.intermediate_dim = 512\n",
        "        self.latent_dim = 40\n",
        "        self.linear = nn.Linear(self.latent_dim, self.intermediate_dim)\n",
        "        self.output = nn.Linear(self.intermediate_dim, 784)\n",
        "        self.relu = nn.ReLU()\n",
        "        self.sigmoid = nn.Sigmoid()\n",
        "\n",
        "    def forward(self, input):\n",
        "        hidden = self.relu(self.linear(input))\n",
        "        decoded = self.sigmoid(self.output(hidden))\n",
        "        return decoded"
      ]
    },
    {
      "cell_type": "code",
      "execution_count": 84,
      "metadata": {
        "id": "NvSBZFuXckpF"
      },
      "outputs": [],
      "source": [
        "class VAEAutoEncoder(nn.Module):\n",
        "    def __init__(self, device):\n",
        "        super().__init__()\n",
        "        self.encoder = VAEEncoder(device)\n",
        "        self.decoder = VAEDecoder()\n",
        "        self.z_vals = None\n",
        "\n",
        "    def forward(self, input):\n",
        "        bs, c, h, w = input.shape[0], input.shape[1], input.shape[2], input.shape[3]\n",
        "        input = input.view(bs, -1)\n",
        "        encoded = self.encoder(input)\n",
        "        self.z_vals = encoded\n",
        "        decoded = self.decoder(encoded[2])\n",
        "        return decoded\n",
        "\n",
        "    def get_zvals(self):\n",
        "        return self.z_vals"
      ]
    },
    {
      "cell_type": "markdown",
      "metadata": {
        "id": "fraiMrt9ckpG"
      },
      "source": [
        "<img src=\"https://github.com/gregworks/Hands-on-Generative-AI/blob/main/Day-2/images/border.jpg?raw=1\" height=\"10\" width=\"1500\" align=\"center\"/>"
      ]
    },
    {
      "cell_type": "markdown",
      "metadata": {
        "id": "3z1Rgo5ZckpG"
      },
      "source": [
        "# VAE Loss and Optimization\n",
        "Combines reconstruction loss and KL divergence.\n"
      ]
    },
    {
      "cell_type": "markdown",
      "metadata": {
        "id": "oKVUR_mQckpG"
      },
      "source": [
        "Variational auto-encoders use complex loss function that consists of two parts:\n",
        "* **Reconstruction loss** is the loss function that shows how close reconstructed image is to the target (can be MSE). It is the same loss function as in normal autoencoders.\n",
        "* **KL loss**, which ensures that latent variable distributions stays close to normal distribution. It is based on the notion of [Kullback-Leibler divergence](https://www.countbayesie.com/blog/2017/5/9/kullback-leibler-divergence-explained) - a metric to estimate how similar two statistical distributions are."
      ]
    },
    {
      "cell_type": "code",
      "execution_count": 53,
      "metadata": {
        "id": "Qo0SwQs_ckpG"
      },
      "outputs": [],
      "source": [
        "def vae_loss(preds, targets, z_vals):\n",
        "    mse = nn.MSELoss()\n",
        "    reconstruction_loss = mse(preds, targets.view(targets.shape[0], -1)) * 784.0\n",
        "    temp = 1.0 + z_vals[1] - torch.square(z_vals[0]) - torch.exp(z_vals[1])\n",
        "    kl_loss = -0.5 * torch.sum(temp, axis=-1)\n",
        "    return torch.mean(reconstruction_loss + kl_loss)"
      ]
    },
    {
      "cell_type": "markdown",
      "metadata": {
        "id": "d9PJt64YckpG"
      },
      "source": [
        "<img src=\"https://github.com/gregworks/Hands-on-Generative-AI/blob/main/Day-2/images/border.jpg?raw=1\" height=\"10\" width=\"1500\" align=\"center\"/>"
      ]
    },
    {
      "cell_type": "markdown",
      "metadata": {
        "id": "K-AYao6sckpG"
      },
      "source": [
        "# Training the VAE\n",
        "Train the model using both the loss components.\n"
      ]
    },
    {
      "cell_type": "code",
      "execution_count": 105,
      "metadata": {
        "id": "lUOLWfuWckpG"
      },
      "outputs": [],
      "source": [
        "# model = VAEAutoEncoder(device).to(device) # Keep the existing model weights\n",
        "optimizer = optim.Adam(model.parameters(), lr=0.0005)"
      ]
    },
    {
      "cell_type": "code",
      "execution_count": 93,
      "metadata": {
        "id": "Ctp4L6YuckpG"
      },
      "outputs": [],
      "source": [
        "def train_vae(model, optimizer, epochs, device):\n",
        "\n",
        "    tqdm_iter = tqdm(range(epochs))\n",
        "\n",
        "    for epoch in tqdm_iter:\n",
        "        model.train()\n",
        "        train_loss = 0.0\n",
        "        test_loss = 0.0\n",
        "\n",
        "        for batch in train_loader:\n",
        "            imgs, labels = batch\n",
        "            imgs = imgs.to(device)\n",
        "            labels = labels.to(device)\n",
        "\n",
        "            preds = model(imgs)\n",
        "            z_vals = model.get_zvals()\n",
        "            loss = vae_loss(preds, imgs, z_vals)\n",
        "\n",
        "            optimizer.zero_grad()\n",
        "            loss.backward()\n",
        "            optimizer.step()\n",
        "\n",
        "            train_loss += loss.item()\n",
        "\n",
        "        model.eval()\n",
        "        with torch.no_grad():\n",
        "            for batch in test_loader:\n",
        "                imgs, labels = batch\n",
        "                imgs = imgs.to(device)\n",
        "                labels = labels.to(device)\n",
        "\n",
        "                preds = model(imgs)\n",
        "                z_vals = model.get_zvals()\n",
        "                loss = vae_loss(preds, imgs, z_vals)\n",
        "\n",
        "                test_loss += loss.item()\n",
        "\n",
        "        train_loss /= len(train_loader)\n",
        "        test_loss /= len(test_loader)\n",
        "\n",
        "        tqdm_dct = {'train loss:': train_loss, 'test loss:': test_loss}\n",
        "        tqdm_iter.set_postfix(tqdm_dct, refresh=True)\n",
        "        tqdm_iter.refresh()"
      ]
    },
    {
      "cell_type": "code",
      "execution_count": 107,
      "metadata": {
        "colab": {
          "base_uri": "https://localhost:8080/"
        },
        "id": "uJwxEKXickpH",
        "outputId": "26ed1eda-83ff-41ab-ac18-1efe014486f8"
      },
      "outputs": [
        {
          "output_type": "stream",
          "name": "stderr",
          "text": [
            "100%|██████████| 5/5 [00:55<00:00, 11.09s/it, train loss:=21.1, test loss:=21.3]\n"
          ]
        }
      ],
      "source": [
        "train_vae(model, optimizer, 5, device)"
      ]
    },
    {
      "cell_type": "markdown",
      "metadata": {
        "id": "7suJeyA8ckpH"
      },
      "source": [
        "<img src=\"https://github.com/gregworks/Hands-on-Generative-AI/blob/main/Day-2/images/border.jpg?raw=1\" height=\"10\" width=\"1500\" align=\"center\"/>"
      ]
    },
    {
      "cell_type": "markdown",
      "metadata": {
        "id": "6sUtWNKcckpH"
      },
      "source": [
        "# Visualizing the Results\n",
        "Display reconstructed images and generated images from latent space.\n"
      ]
    },
    {
      "cell_type": "code",
      "execution_count": 108,
      "metadata": {
        "id": "RVfP02QOckpH"
      },
      "outputs": [],
      "source": [
        "def plot_Sample(n, data):\n",
        "    fig, ax = plt.subplots(1, n)\n",
        "    for i, z in enumerate(data):\n",
        "        if i == n:\n",
        "            break\n",
        "        preprocess = z[0].reshape(1, 28, 28) if z[0].shape[1] == 28 else z[0].reshape(1, 14, 14) if z[0].shape[1] == 14 else z[0]\n",
        "\n",
        "\n",
        "        ax[i].imshow(preprocess[0])\n",
        "    plt.show()"
      ]
    },
    {
      "cell_type": "code",
      "execution_count": 109,
      "metadata": {
        "colab": {
          "base_uri": "https://localhost:8080/",
          "height": 283
        },
        "id": "s8x0IaKNckpH",
        "outputId": "f087d2b5-4974-447e-bbda-e809c601ca9f"
      },
      "outputs": [
        {
          "output_type": "display_data",
          "data": {
            "text/plain": [
              "<Figure size 640x480 with 5 Axes>"
            ],
            "image/png": "[encoded data removed]"
          },
          "metadata": {}
        },
        {
          "output_type": "display_data",
          "data": {
            "text/plain": [
              "<Figure size 640x480 with 5 Axes>"
            ],
            "image/png": "[encoded data removed]"
          },
          "metadata": {}
        }
      ],
      "source": [
        "model.eval()\n",
        "predictions = []\n",
        "plots = 5\n",
        "for i, data in enumerate(test_dataset):\n",
        "    if i == plots:\n",
        "        break\n",
        "    predictions.append(model(data[0].to(device).unsqueeze(0)).view(1, 28, 28).detach().cpu())\n",
        "plot_Sample(plots, test_dataset)\n",
        "plot_Sample(plots, predictions)"
      ]
    },
    {
      "cell_type": "markdown",
      "metadata": {
        "id": "mPf4-m0yckpH"
      },
      "source": [
        "<img src=\"https://github.com/gregworks/Hands-on-Generative-AI/blob/main/Day-2/images/border.jpg?raw=1\" height=\"10\" width=\"1500\" align=\"center\"/>"
      ]
    },
    {
      "cell_type": "markdown",
      "metadata": {
        "id": "n5skOuppckpI"
      },
      "source": [
        "# Generate a new Image!"
      ]
    },
    {
      "cell_type": "code",
      "execution_count": 122,
      "metadata": {
        "id": "GIizTXftckpI"
      },
      "outputs": [],
      "source": [
        "import torch\n",
        "\n",
        "def generate_sample(vae, device):\n",
        "    # Assume the latent dimension of your VAE is `latent_dim`\n",
        "    latent_dim = 40  # replace this if your VAE doesn't have this attribute\n",
        "\n",
        "    # Sample points from the standard normal distribution\n",
        "    num_samples = 10  # Generate 10 samples for visualization\n",
        "    z = torch.randn(num_samples, latent_dim).to(device)\n",
        "\n",
        "    # Decode the sampled points to get new data samples\n",
        "    with torch.no_grad():\n",
        "        generated_samples = vae.decoder(z)\n",
        "\n",
        "    return generated_samples.view(num_samples, 1, 28, 28) # Reshape to image dimensions"
      ]
    },
    {
      "cell_type": "code",
      "execution_count": 126,
      "metadata": {
        "colab": {
          "base_uri": "https://localhost:8080/",
          "height": 181
        },
        "id": "KLckEpBAckpI",
        "outputId": "86865de5-10a0-424f-d8fd-e272b6fcaa8e"
      },
      "outputs": [
        {
          "output_type": "display_data",
          "data": {
            "text/plain": [
              "<Figure size 2000x200 with 10 Axes>"
            ],
            "image/png": "[encoded data removed]"
          },
          "metadata": {}
        }
      ],
      "source": [
        "vae_model = model\n",
        "device = torch.device(\"cuda\" if torch.cuda.is_available() else \"cpu\")\n",
        "\n",
        "new_samples = generate_sample(vae_model, device)\n",
        "\n",
        "# If you're working with image data, you can then visualize the new sample\n",
        "fig, axes = plt.subplots(1, 10, figsize=(20, 2))\n",
        "for i in range(10):\n",
        "    axes[i].imshow(new_samples[i][0].cpu().numpy(), cmap='gray')\n",
        "    axes[i].axis('off')\n",
        "plt.suptitle(\"Generated Samples\")\n",
        "plt.show()"
      ]
    },
    {
      "cell_type": "markdown",
      "metadata": {
        "id": "LdfXTGf9ckpI"
      },
      "source": [
        "<img src=\"https://github.com/gregworks/Hands-on-Generative-AI/blob/main/Day-2/images/border.jpg?raw=1\" height=\"10\" width=\"1500\" align=\"center\"/>"
      ]
    },
    {
      "cell_type": "markdown",
      "metadata": {
        "id": "9k6LkVEockpI"
      },
      "source": [
        "## **Hands on: Latent Space Arithmetic with VAEs**"
      ]
    },
    {
      "cell_type": "markdown",
      "metadata": {
        "id": "RWlAmCmsckpI"
      },
      "source": [
        "\n",
        "**Objective:** To explore the semantic representations captured in the latent space of a trained VAE by performing arithmetic operations on the latent representations of digits.\n",
        "\n",
        "\n"
      ]
    },
    {
      "cell_type": "markdown",
      "metadata": {
        "id": "PRY3GgHcckpI"
      },
      "source": [
        "- Encode Several Instances of Specific Digits:\n",
        "  - Encode multiple instances of two chosen digits, for example '9' and '1'.\n",
        "  - Extract their latent space representations (z-values).\n",
        "  - Subtract the representation of '1' from that of '9'.\n",
        "  - Decode the Result\n",
        "  - How can the result be interpreted in terms of the semantics of the numbers '9' and '1'?\n",
        "\n",
        "<!-- digit_9_z_vals = []\n",
        "digit_1_z_vals = []\n",
        "\n",
        "for imgs, lbls in train_loader:\n",
        "    imgs = imgs.to(device)\n",
        "    _ = vae_model(imgs)\n",
        "    z_values = vae_model.get_zvals()[2].detach().cpu().numpy()\n",
        "\n",
        "    digit_9_z_vals.extend(z_values[lbls == 9])\n",
        "    digit_1_z_vals.extend(z_values[lbls == 1])\n",
        "\n",
        "\n",
        "avg_9 = np.mean(digit_9_z_vals, axis=0)\n",
        "avg_1 = np.mean(digit_1_z_vals, axis=0)\n",
        "\n",
        "resultant_z = avg_9 - avg_1\n",
        "\n",
        "\n",
        "resultant_z_tensor = torch.FloatTensor(resultant_z).to(device).unsqueeze(0)\n",
        "decoded_img = vae_model.decoder(resultant_z_tensor).detach().cpu().numpy().reshape(28, 28)\n",
        "\n",
        "plt.imshow(decoded_img, cmap='gray')\n",
        "plt.title(\"Decoded Image from Latent Space Arithmetic\")\n",
        "plt.show() -->\n",
        "\n"
      ]
    },
    {
      "cell_type": "code",
      "source": [
        "avg_9"
      ],
      "metadata": {
        "id": "N5K-8EtAuAgo",
        "outputId": "9cfbb913-c96d-4f1b-b221-332a72741075",
        "colab": {
          "base_uri": "https://localhost:8080/"
        }
      },
      "execution_count": 132,
      "outputs": [
        {
          "output_type": "execute_result",
          "data": {
            "text/plain": [
              "array([-3.75583380e-01, -1.88213456e-02, -9.94984899e-03, -2.06027366e-03,\n",
              "       -2.10652710e-03, -1.54329492e-02, -4.63756238e-04,  3.25203359e-01,\n",
              "        2.50650626e-02, -2.21201032e-02, -2.21307529e-03,  1.73204020e-01,\n",
              "        4.45329808e-02, -2.69474629e-02,  1.59428790e-02,  2.55840691e-03,\n",
              "        6.79563917e-03,  5.81206474e-03,  4.16618132e-04, -6.28005131e-04,\n",
              "       -5.71972504e-03, -1.26670107e-01,  6.86232865e-01, -3.11335810e-02,\n",
              "        1.21645436e-01, -6.32008910e-02,  4.80685860e-01, -1.96076959e-01,\n",
              "        2.98937410e-02, -2.48814165e-03, -1.15686990e-01,  1.96898030e-03,\n",
              "       -2.96552271e-01,  6.06394326e-03, -6.66824132e-02, -2.89672762e-02,\n",
              "       -7.32336333e-03,  5.57651045e-03, -3.56517173e-02, -1.07853860e-02],\n",
              "      dtype=float32)"
            ]
          },
          "metadata": {},
          "execution_count": 132
        }
      ]
    },
    {
      "cell_type": "code",
      "source": [
        "avg_1"
      ],
      "metadata": {
        "id": "k7mJwfC1uC2N",
        "outputId": "7a61c065-362c-4342-8257-22c4047ad12b",
        "colab": {
          "base_uri": "https://localhost:8080/"
        }
      },
      "execution_count": 133,
      "outputs": [
        {
          "output_type": "execute_result",
          "data": {
            "text/plain": [
              "array([ 1.2946976 ,  0.01823859,  0.02251801,  0.01345711, -0.00585567,\n",
              "       -0.02726918,  0.00183922,  0.4241908 ,  0.08040489,  0.00972976,\n",
              "       -0.01869731, -0.13040866, -0.00164122,  0.00863137, -0.02030209,\n",
              "       -0.01593969,  0.00133972,  0.00561104,  0.00146254,  0.02197521,\n",
              "       -0.04266754, -0.04018878,  0.11299337,  0.13089523, -0.13705455,\n",
              "       -0.11686518, -0.04374787,  0.05881425, -0.00310692, -0.02188175,\n",
              "       -0.10872497, -0.00328789,  0.02359084, -0.00348199,  0.24209625,\n",
              "       -0.01347466,  0.01178646,  0.06123965, -0.08656179, -0.00738504],\n",
              "      dtype=float32)"
            ]
          },
          "metadata": {},
          "execution_count": 133
        }
      ]
    },
    {
      "cell_type": "code",
      "source": [
        "\n",
        "\n",
        "import matplotlib.pyplot as plt\n",
        "import numpy as np\n",
        "digit_9_z_vals = []\n",
        "digit_1_z_vals = []\n",
        "\n",
        "for imgs, lbls in train_loader:\n",
        "    imgs = imgs.to(device)\n",
        "    _ = vae_model(imgs)\n",
        "    z_values = vae_model.get_zvals()[2].detach().cpu().numpy()\n",
        "\n",
        "    digit_9_z_vals.extend(z_values[lbls == 9])\n",
        "    digit_1_z_vals.extend(z_values[lbls == 1])\n",
        "\n",
        "\n",
        "avg_9 = np.mean(digit_9_z_vals, axis=0)\n",
        "avg_1 = np.mean(digit_1_z_vals, axis=0)\n",
        "\n",
        "resultant_z = avg_9 - avg_1\n",
        "\n",
        "\n",
        "resultant_z_tensor = torch.FloatTensor(resultant_z).to(device).unsqueeze(0)\n",
        "decoded_img = vae_model.decoder(resultant_z_tensor).detach().cpu().numpy().reshape(28, 28)\n",
        "\n",
        "plt.imshow(decoded_img, cmap='gray')\n",
        "plt.title(\"Decoded Image from Latent Space Arithmetic\")\n",
        "plt.show()\n"
      ],
      "metadata": {
        "colab": {
          "base_uri": "https://localhost:8080/",
          "height": 452
        },
        "id": "dULq4-K_kb-w",
        "outputId": "d22bd5d3-041c-44f6-d8e9-8b44bd593a3b"
      },
      "execution_count": 131,
      "outputs": [
        {
          "output_type": "display_data",
          "data": {
            "text/plain": [
              "<Figure size 640x480 with 1 Axes>"
            ],
            "image/png": "[encoded data removed]"
          },
          "metadata": {}
        }
      ]
    }
  ],
  "metadata": {
    "kernelspec": {
      "display_name": "Python 3",
      "name": "python3"
    },
    "language_info": {
      "codemirror_mode": {
        "name": "ipython",
        "version": 3
      },
      "file_extension": ".py",
      "mimetype": "text/x-python",
      "name": "python",
      "nbconvert_exporter": "python",
      "pygments_lexer": "ipython3",
      "version": "3.7.6"
    },
    "colab": {
      "provenance": [],
      "gpuType": "T4",
      "include_colab_link": true
    },
    "accelerator": "GPU"
  },
  "nbformat": 4,
  "nbformat_minor": 0
}